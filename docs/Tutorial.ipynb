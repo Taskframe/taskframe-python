{
 "cells": [
  {
   "cell_type": "markdown",
   "metadata": {},
   "source": [
    "# Taskframe Demo"
   ]
  },
  {
   "cell_type": "markdown",
   "metadata": {},
   "source": [
    "Welcome on this Demo notebook of Taskframe.ai, the annotation platform for data scientists. It was designed with the key following goals:\n",
    "* **Easy integration** with common data-science tools and workflows, in particular Jupyter Notebooks, Pandas, Pytorch, etc.\n",
    "* **Easy Collaboration** to distribute annotation tasks to team members, perform reviews, provide feedback etc.\n",
    "* **Easy Customization** to adapt to any annotation task and create complex requirements.\n",
    "\n",
    "Let's jump right into it."
   ]
  },
  {
   "cell_type": "markdown",
   "metadata": {},
   "source": [
    "## Set Up"
   ]
  },
  {
   "cell_type": "markdown",
   "metadata": {},
   "source": [
    "First install the python lib and set your API key (found on your account page)"
   ]
  },
  {
   "cell_type": "code",
   "execution_count": 2,
   "metadata": {},
   "outputs": [
    {
     "name": "stdout",
     "output_type": "stream",
     "text": [
      "Defaulting to user installation because normal site-packages is not writeable\n",
      "\u001b[31mERROR: Could not find a version that satisfies the requirement taskframe (from versions: none)\u001b[0m\n",
      "\u001b[31mERROR: No matching distribution found for taskframe\u001b[0m\n"
     ]
    }
   ],
   "source": [
    "!pip install taskframe"
   ]
  },
  {
   "cell_type": "code",
   "execution_count": 34,
   "metadata": {},
   "outputs": [
    {
     "name": "stdout",
     "output_type": "stream",
     "text": [
      "The autoreload extension is already loaded. To reload it, use:\n",
      "  %reload_ext autoreload\n"
     ]
    }
   ],
   "source": [
    "%load_ext autoreload\n",
    "%autoreload 2\n",
    "import os\n",
    "import taskframe"
   ]
  },
  {
   "cell_type": "code",
   "execution_count": 35,
   "metadata": {},
   "outputs": [],
   "source": [
    "taskframe.api_key = \"xxxxx\"\n",
    "taskframe.api_key = os.environ.get('TASKFRAME_API_KEY')"
   ]
  },
  {
   "cell_type": "markdown",
   "metadata": {},
   "source": [
    "## The Taskframe Concept"
   ]
  },
  {
   "cell_type": "markdown",
   "metadata": {},
   "source": [
    "The library and platform are built around a central datastructure called `Taskframe`. a *Taskframe* is simply a group of annotation tasks with the same parameters, by analogy with *Dataframes* commonly used in data-science and libraries such as Pandas. You can create your first Taskframe as follows:"
   ]
  },
  {
   "cell_type": "code",
   "execution_count": 36,
   "metadata": {},
   "outputs": [],
   "source": [
    "tf = taskframe.Taskframe(\n",
    "    data_type=\"image\",\n",
    "    task_type=\"classification\",\n",
    "    classes=[\"cat\", \"dog\"]\n",
    ")\n",
    "\n",
    "tf.client.session.verify = False"
   ]
  },
  {
   "cell_type": "markdown",
   "metadata": {},
   "source": [
    "Taskframes take a few common parameters:\n",
    "  * `data_type`: the type of data that we are going to annotate, including `image`, `text`, `html`, etc. We also support a generic `iframe` data_type so you can submit urls to any widget/ app of your choice.\n",
    "  * `task_type`: the type of annotation to perform, including `classification`, `bounding_box`, etc.\n",
    "  * `classes`: for classification task, we can simply pass the list of possible classes as a parameter\n",
    "  \n",
    "(The full list of possible parameters are detailed in the [documentation](documentation.md))\n",
    "\n",
    "\n",
    "You may preview the UI that workers will see with the `preview` method:\n"
   ]
  },
  {
   "cell_type": "code",
   "execution_count": 4,
   "metadata": {},
   "outputs": [
    {
     "data": {
      "text/html": [
       "\n",
       "            <iframe id=\"frame_4151\" src=\"https://localhost:3000/embed/preview\" frameBorder=0 style=\"width: 100%; height: 600px;\"></iframe>\n",
       "            <script>\n",
       "            (function(){\n",
       "                console.log('$$$$', {});\n",
       "                var $iframe = document.querySelector('#frame_4151');\n",
       "                var init = false;\n",
       "                postMessageHandler = function(e) {\n",
       "                    if (e.source !==  $iframe.contentWindow || e.data !== 'ready' || init) return;\n",
       "                    $iframe.contentWindow.postMessage('{\"type\": \"set_taskframe\", \"data\": {\"name\": null, \"data_type\": \"image\", \"task_type\": \"classification\", \"params\": {\"classes\": [\"cat\", \"dog\"]}, \"output_schema\": null, \"output_schema_url\": \"\", \"ui_schema\": {}, \"ui_schema_url\": \"\", \"instruction\": \"\", \"instruction_details\": null, \"mode\": \"inhouse\"}}', '*');\n",
       "                    $iframe.contentWindow.postMessage('{}', '*');\n",
       "\n",
       "                    init = true;\n",
       "                }\n",
       "                window.removeEventListener('message', postMessageHandler);\n",
       "                window.addEventListener('message', postMessageHandler);\n",
       "            })()\n",
       "            </script>\n",
       "            "
      ],
      "text/plain": [
       "<IPython.core.display.HTML object>"
      ]
     },
     "metadata": {},
     "output_type": "display_data"
    }
   ],
   "source": [
    "tf.preview()"
   ]
  },
  {
   "cell_type": "markdown",
   "metadata": {},
   "source": [
    "Beyond the predefined task types, The `task_type=\"custom\"` allows you to specify any task output. To do that, you just have to pass a standard [JSON Schema](https://json-schema.org/) dict in the `output_schema` parameter:"
   ]
  },
  {
   "cell_type": "code",
   "execution_count": 5,
   "metadata": {},
   "outputs": [
    {
     "data": {
      "text/html": [
       "\n",
       "            <iframe id=\"frame_3240\" src=\"https://localhost:3000/embed/preview\" frameBorder=0 style=\"width: 100%; height: 600px;\"></iframe>\n",
       "            <script>\n",
       "            (function(){\n",
       "                console.log('$$$$', {});\n",
       "                var $iframe = document.querySelector('#frame_3240');\n",
       "                var init = false;\n",
       "                postMessageHandler = function(e) {\n",
       "                    if (e.source !==  $iframe.contentWindow || e.data !== 'ready' || init) return;\n",
       "                    $iframe.contentWindow.postMessage('{\"type\": \"set_taskframe\", \"data\": {\"name\": null, \"data_type\": \"image\", \"task_type\": \"custom\", \"params\": {}, \"output_schema\": {\"type\": \"object\", \"properties\": {\"animal\": {\"type\": \"string\", \"enum\": [\"cat\", \"dog\"]}, \"name\": {\"type\": \"string\"}, \"location\": {\"type\": \"string\", \"enum\": [\"city\", \"nature\"]}}}, \"output_schema_url\": \"\", \"ui_schema\": {}, \"ui_schema_url\": \"\", \"instruction\": \"Fill animal details\", \"instruction_details\": null, \"mode\": \"inhouse\"}}', '*');\n",
       "                    $iframe.contentWindow.postMessage('{}', '*');\n",
       "\n",
       "                    init = true;\n",
       "                }\n",
       "                window.removeEventListener('message', postMessageHandler);\n",
       "                window.addEventListener('message', postMessageHandler);\n",
       "            })()\n",
       "            </script>\n",
       "            "
      ],
      "text/plain": [
       "<IPython.core.display.HTML object>"
      ]
     },
     "metadata": {},
     "output_type": "display_data"
    }
   ],
   "source": [
    "custom_tf = taskframe.Taskframe(\n",
    "    data_type=\"image\",\n",
    "    task_type=\"custom\",\n",
    "    instruction=\"Fill animal details\",\n",
    "    output_schema={\n",
    "        \"type\": \"object\",\n",
    "        \"properties\": {\n",
    "            \"animal\" : {\n",
    "                \"type\": \"string\",\n",
    "                \"enum\": [\"cat\", \"dog\"]\n",
    "            },\n",
    "            \"name\": {\n",
    "                \"type\": \"string\"\n",
    "            },\n",
    "            \"location\": {\n",
    "                \"type\": \"string\",\n",
    "                \"enum\": [\"city\", \"nature\"]\n",
    "            }\n",
    "        }\n",
    "    }\n",
    ")\n",
    "custom_tf.preview()"
   ]
  },
  {
   "cell_type": "markdown",
   "metadata": {},
   "source": [
    "## Add a dataset\n",
    "The next step is to add the data we need to annotate by attaching a `Dataset`. As in usual data science tools, a dataset is simply an iterable collection containing your data. The library offers several convienient methods to load them from different formats.\n",
    "\n",
    "For example, let's say we have a Pandas dataframe with paths to local files:\n"
   ]
  },
  {
   "cell_type": "code",
   "execution_count": 24,
   "metadata": {},
   "outputs": [
    {
     "data": {
      "text/html": [
       "<div>\n",
       "<style scoped>\n",
       "    .dataframe tbody tr th:only-of-type {\n",
       "        vertical-align: middle;\n",
       "    }\n",
       "\n",
       "    .dataframe tbody tr th {\n",
       "        vertical-align: top;\n",
       "    }\n",
       "\n",
       "    .dataframe thead th {\n",
       "        text-align: right;\n",
       "    }\n",
       "</style>\n",
       "<table border=\"1\" class=\"dataframe\">\n",
       "  <thead>\n",
       "    <tr style=\"text-align: right;\">\n",
       "      <th></th>\n",
       "      <th>path</th>\n",
       "      <th>identifier</th>\n",
       "    </tr>\n",
       "  </thead>\n",
       "  <tbody>\n",
       "    <tr>\n",
       "      <th>0</th>\n",
       "      <td>imgs/foo.jpg</td>\n",
       "      <td>foo</td>\n",
       "    </tr>\n",
       "    <tr>\n",
       "      <th>1</th>\n",
       "      <td>imgs/bar.jpg</td>\n",
       "      <td>bar</td>\n",
       "    </tr>\n",
       "  </tbody>\n",
       "</table>\n",
       "</div>"
      ],
      "text/plain": [
       "           path identifier\n",
       "0  imgs/foo.jpg        foo\n",
       "1  imgs/bar.jpg        bar"
      ]
     },
     "execution_count": 24,
     "metadata": {},
     "output_type": "execute_result"
    }
   ],
   "source": [
    "import pandas\n",
    "dataframe = pandas.read_csv('demo.csv')\n",
    "dataframe[['path', 'identifier']].head()"
   ]
  },
  {
   "cell_type": "markdown",
   "metadata": {},
   "source": [
    "You can simply pass this dataframe to your taskframe with the dedicated method and the target column (where your data is) as parameter :"
   ]
  },
  {
   "cell_type": "code",
   "execution_count": 7,
   "metadata": {},
   "outputs": [
    {
     "name": "stdout",
     "output_type": "stream",
     "text": [
      "file\n"
     ]
    }
   ],
   "source": [
    "tf.dataset = taskframe.Dataset.from_dataframe(dataframe, column=\"path\")\n",
    "# Alternative syntax:\n",
    "# tf.add_dataset_from_dataframe(dataframe, column=\"path\")"
   ]
  },
  {
   "cell_type": "markdown",
   "metadata": {},
   "source": [
    "if your dataset items have an identifier, you may pass it to more easily sync results later:"
   ]
  },
  {
   "cell_type": "code",
   "execution_count": 9,
   "metadata": {},
   "outputs": [
    {
     "name": "stdout",
     "output_type": "stream",
     "text": [
      "file\n"
     ]
    }
   ],
   "source": [
    "tf.dataset = taskframe.Dataset.from_dataframe(dataframe, column=\"path\",custom_id_column=\"identifier\")"
   ]
  },
  {
   "cell_type": "markdown",
   "metadata": {},
   "source": [
    "Others methods to load a dataset include:\n",
    "* `add_dataset_from_csv`\n",
    "* `add_dataset_from_folder`\n",
    "* `add_dataset_from_list`\n",
    "* `add_dataset_from_tensor` (comming soon)"
   ]
  },
  {
   "cell_type": "markdown",
   "metadata": {},
   "source": [
    "If you now call the `preview()` method, it will show the annotation interface with a random item from your dataset:"
   ]
  },
  {
   "cell_type": "code",
   "execution_count": 10,
   "metadata": {},
   "outputs": [
    {
     "data": {
      "text/html": [
       "\n",
       "            <iframe id=\"frame_1623\" src=\"https://localhost:3000/embed/preview\" frameBorder=0 style=\"width: 100%; height: 600px;\"></iframe>\n",
       "            <script>\n",
       "            (function(){\n",
       "                console.log('$$$$', {\"type\": \"set_task\", \"data\": {\"input_url\": \"data:image/jpeg;base64,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\", \"input_type\": \"url\", \"is_training\": false}});\n",
       "                var $iframe = document.querySelector('#frame_1623');\n",
       "                var init = false;\n",
       "                postMessageHandler = function(e) {\n",
       "                    if (e.source !==  $iframe.contentWindow || e.data !== 'ready' || init) return;\n",
       "                    $iframe.contentWindow.postMessage('{\"type\": \"set_taskframe\", \"data\": {\"name\": null, \"data_type\": \"image\", \"task_type\": \"classification\", \"params\": {\"classes\": [\"cat\", \"dog\"]}, \"output_schema\": null, \"output_schema_url\": \"\", \"ui_schema\": {}, \"ui_schema_url\": \"\", \"instruction\": \"\", \"instruction_details\": null, \"mode\": \"inhouse\"}}', '*');\n",
       "                    $iframe.contentWindow.postMessage('{\"type\": \"set_task\", \"data\": {\"input_url\": \"data:image/jpeg;base64,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\", \"input_type\": \"url\", \"is_training\": false}}', '*');\n",
       "\n",
       "                    init = true;\n",
       "                }\n",
       "                window.removeEventListener('message', postMessageHandler);\n",
       "                window.addEventListener('message', postMessageHandler);\n",
       "            })()\n",
       "            </script>\n",
       "            "
      ],
      "text/plain": [
       "<IPython.core.display.HTML object>"
      ]
     },
     "metadata": {},
     "output_type": "display_data"
    }
   ],
   "source": [
    "tf.preview()"
   ]
  },
  {
   "cell_type": "markdown",
   "metadata": {},
   "source": [
    "## Adding a Training Set"
   ]
  },
  {
   "cell_type": "markdown",
   "metadata": {},
   "source": [
    "Just like with Machine Learning training, you can include a training set to help your annotators.\n",
    "\n",
    "The training set is made of items for which you already know the labels. Your annotators will practice on the training set, once they reach a specific accuracy threshold on training data they may start annotating the actual dataset.\n",
    "\n",
    "To do that, you may use similar methods as those to add a dataset, but you need to pass in an additional parameter to specify the labels and the training score threshold called `required_score`. For example with a dataframe:"
   ]
  },
  {
   "cell_type": "code",
   "execution_count": 11,
   "metadata": {},
   "outputs": [
    {
     "data": {
      "text/html": [
       "<div>\n",
       "<style scoped>\n",
       "    .dataframe tbody tr th:only-of-type {\n",
       "        vertical-align: middle;\n",
       "    }\n",
       "\n",
       "    .dataframe tbody tr th {\n",
       "        vertical-align: top;\n",
       "    }\n",
       "\n",
       "    .dataframe thead th {\n",
       "        text-align: right;\n",
       "    }\n",
       "</style>\n",
       "<table border=\"1\" class=\"dataframe\">\n",
       "  <thead>\n",
       "    <tr style=\"text-align: right;\">\n",
       "      <th></th>\n",
       "      <th>path</th>\n",
       "      <th>identifier</th>\n",
       "      <th>label</th>\n",
       "    </tr>\n",
       "  </thead>\n",
       "  <tbody>\n",
       "    <tr>\n",
       "      <th>0</th>\n",
       "      <td>imgs/foo.jpg</td>\n",
       "      <td>foo</td>\n",
       "      <td>dog</td>\n",
       "    </tr>\n",
       "    <tr>\n",
       "      <th>1</th>\n",
       "      <td>imgs/bar.jpg</td>\n",
       "      <td>bar</td>\n",
       "      <td>cat</td>\n",
       "    </tr>\n",
       "  </tbody>\n",
       "</table>\n",
       "</div>"
      ],
      "text/plain": [
       "           path identifier label\n",
       "0  imgs/foo.jpg        foo   dog\n",
       "1  imgs/bar.jpg        bar   cat"
      ]
     },
     "execution_count": 11,
     "metadata": {},
     "output_type": "execute_result"
    }
   ],
   "source": [
    "training_dataframe = pandas.read_csv('demo.csv')\n",
    "training_dataframe[['path', 'identifier', 'label']].head()"
   ]
  },
  {
   "cell_type": "code",
   "execution_count": 27,
   "metadata": {},
   "outputs": [],
   "source": [
    "tf.trainingset = taskframe.Trainingset.from_dataframe(training_dataframe, label_column=\"label\", required_score=0.9)\n",
    "# Alternative syntax:\n",
    "# tf.add_trainingset_from_dataframe(training_dataframe, label_column=\"label\", score_threshold=0.9)"
   ]
  },
  {
   "cell_type": "code",
   "execution_count": 31,
   "metadata": {},
   "outputs": [
    {
     "data": {
      "text/plain": [
       "<taskframe.dataset.DataDataset at 0x7f9b02928710>"
      ]
     },
     "execution_count": 31,
     "metadata": {},
     "output_type": "execute_result"
    }
   ],
   "source": [
    "tf.trainingset"
   ]
  },
  {
   "cell_type": "markdown",
   "metadata": {},
   "source": [
    "## Invite Team Members"
   ]
  },
  {
   "cell_type": "markdown",
   "metadata": {},
   "source": [
    "Now that your Taskframe is configured, it's time to specify the team members that will be invited to collaborate on the annotation tasks:"
   ]
  },
  {
   "cell_type": "code",
   "execution_count": null,
   "metadata": {},
   "outputs": [],
   "source": [
    "tf.add_team(\n",
    "    workers=['mike@company.com', 'john@company.com'],\n",
    "    reviewers=['dave@company.com']\n",
    ")"
   ]
  },
  {
   "cell_type": "markdown",
   "metadata": {},
   "source": [
    "There are 3 possible roles:\n",
    "* `worker`: may only submit answers to tasks\n",
    "* `reviewer`: may review answers from workers (and also submit answers themselves)\n",
    "* `admin`: may change taskframe settings"
   ]
  },
  {
   "cell_type": "markdown",
   "metadata": {},
   "source": [
    "## Submit"
   ]
  },
  {
   "cell_type": "markdown",
   "metadata": {},
   "source": [
    "**Very Important**: the taskframe python client relies on \"lazy\" patterns: most methods and commands are usually not persisted to the platform. This allows you to interactively design and preview your taskframe and dataset in your Jupyter Notebook, before actually saving anything to the platform.\n",
    "\n",
    "You have to call the `submit()` method to save your changes:"
   ]
  },
  {
   "cell_type": "code",
   "execution_count": null,
   "metadata": {},
   "outputs": [],
   "source": [
    "tf.submit()"
   ]
  },
  {
   "cell_type": "markdown",
   "metadata": {},
   "source": [
    "This will perform the following actions:\n",
    "* Save the taskframe on the platform \n",
    "* Upload your dataset as new tasks\n",
    "* Upload your trainingset if specified, and configure the training required score\n",
    "* Send an email to team members to invite them to collaborate"
   ]
  },
  {
   "cell_type": "markdown",
   "metadata": {},
   "source": [
    "## Fetching Results"
   ]
  },
  {
   "cell_type": "markdown",
   "metadata": {},
   "source": [
    "Once your workers have submitted their answers and once reviewers have validated them, you can fetch your results:"
   ]
  },
  {
   "cell_type": "code",
   "execution_count": 20,
   "metadata": {},
   "outputs": [
    {
     "name": "stderr",
     "output_type": "stream",
     "text": [
      "/usr/local/lib/python3.7/site-packages/urllib3/connectionpool.py:986: InsecureRequestWarning: Unverified HTTPS request is being made to host 'docker.for.mac.host.internal'. Adding certificate verification is strongly advised. See: https://urllib3.readthedocs.io/en/latest/advanced-usage.html#ssl-warnings\n",
      "  InsecureRequestWarning,\n",
      "/usr/local/lib/python3.7/site-packages/urllib3/connectionpool.py:986: InsecureRequestWarning: Unverified HTTPS request is being made to host 'docker.for.mac.host.internal'. Adding certificate verification is strongly advised. See: https://urllib3.readthedocs.io/en/latest/advanced-usage.html#ssl-warnings\n",
      "  InsecureRequestWarning,\n"
     ]
    }
   ],
   "source": [
    "\n",
    "#as a csv (need to pass the output path): \n",
    "tf.to_csv(path=\"output.csv\")\n",
    "\n",
    "# as a pandas dataframe:\n",
    "df = tf.to_dataframe()"
   ]
  },
  {
   "cell_type": "code",
   "execution_count": 21,
   "metadata": {},
   "outputs": [
    {
     "data": {
      "text/html": [
       "<div>\n",
       "<style scoped>\n",
       "    .dataframe tbody tr th:only-of-type {\n",
       "        vertical-align: middle;\n",
       "    }\n",
       "\n",
       "    .dataframe tbody tr th {\n",
       "        vertical-align: top;\n",
       "    }\n",
       "\n",
       "    .dataframe thead th {\n",
       "        text-align: right;\n",
       "    }\n",
       "</style>\n",
       "<table border=\"1\" class=\"dataframe\">\n",
       "  <thead>\n",
       "    <tr style=\"text-align: right;\">\n",
       "      <th></th>\n",
       "      <th>id</th>\n",
       "      <th>custom_id</th>\n",
       "      <th>taskframe_id</th>\n",
       "      <th>taskframe_name</th>\n",
       "      <th>input_type</th>\n",
       "      <th>status</th>\n",
       "      <th>answer</th>\n",
       "      <th>input_url</th>\n",
       "    </tr>\n",
       "  </thead>\n",
       "  <tbody>\n",
       "    <tr>\n",
       "      <th>0</th>\n",
       "      <td>bdvvuP4bNCLtZy6rGBAb3b</td>\n",
       "      <td>None</td>\n",
       "      <td>bYeBmshWKZ34VaYtqVEgmA</td>\n",
       "      <td>Cat vs Dog</td>\n",
       "      <td>file</td>\n",
       "      <td>pending_work</td>\n",
       "      <td>None</td>\n",
       "      <td>NaN</td>\n",
       "    </tr>\n",
       "    <tr>\n",
       "      <th>1</th>\n",
       "      <td>7ddeyvazXWQ2tAR3WuE3YN</td>\n",
       "      <td>None</td>\n",
       "      <td>bYeBmshWKZ34VaYtqVEgmA</td>\n",
       "      <td>Cat vs Dog</td>\n",
       "      <td>url</td>\n",
       "      <td>disposed</td>\n",
       "      <td>None</td>\n",
       "      <td>https://i.dailymail.co.uk/1s/2019/11/23/09/213...</td>\n",
       "    </tr>\n",
       "    <tr>\n",
       "      <th>2</th>\n",
       "      <td>rcfVLPXhYStKdq4dgEEwge</td>\n",
       "      <td>None</td>\n",
       "      <td>bYeBmshWKZ34VaYtqVEgmA</td>\n",
       "      <td>Cat vs Dog</td>\n",
       "      <td>url</td>\n",
       "      <td>pending_work</td>\n",
       "      <td>None</td>\n",
       "      <td>https://i.dailymail.co.uk/1s/2019/11/23/09/213...</td>\n",
       "    </tr>\n",
       "    <tr>\n",
       "      <th>3</th>\n",
       "      <td>mKPaRVg5CAS6vRNTyiJ2U3</td>\n",
       "      <td>custid_3</td>\n",
       "      <td>bYeBmshWKZ34VaYtqVEgmA</td>\n",
       "      <td>Cat vs Dog</td>\n",
       "      <td>url</td>\n",
       "      <td>finished</td>\n",
       "      <td>cat</td>\n",
       "      <td>https://api.time.com/wp-content/uploads/2019/1...</td>\n",
       "    </tr>\n",
       "    <tr>\n",
       "      <th>4</th>\n",
       "      <td>ppQTBh8UXu7gEDGjzDs3PA</td>\n",
       "      <td>custid_2</td>\n",
       "      <td>bYeBmshWKZ34VaYtqVEgmA</td>\n",
       "      <td>Cat vs Dog</td>\n",
       "      <td>url</td>\n",
       "      <td>finished</td>\n",
       "      <td>cat</td>\n",
       "      <td>https://images.pexels.com/photos/104827/cat-pe...</td>\n",
       "    </tr>\n",
       "    <tr>\n",
       "      <th>5</th>\n",
       "      <td>bMaqgNkD5j5i8cHKKqa9yE</td>\n",
       "      <td>custid_1</td>\n",
       "      <td>bYeBmshWKZ34VaYtqVEgmA</td>\n",
       "      <td>Cat vs Dog</td>\n",
       "      <td>url</td>\n",
       "      <td>pending_work</td>\n",
       "      <td>None</td>\n",
       "      <td>https://i.dailymail.co.uk/1s/2019/11/23/09/213...</td>\n",
       "    </tr>\n",
       "    <tr>\n",
       "      <th>6</th>\n",
       "      <td>MPR7eTxKM5hfEuVa87FMpQ</td>\n",
       "      <td>None</td>\n",
       "      <td>bYeBmshWKZ34VaYtqVEgmA</td>\n",
       "      <td>Cat vs Dog</td>\n",
       "      <td>url</td>\n",
       "      <td>finished</td>\n",
       "      <td>dog</td>\n",
       "      <td>https://i.dailymail.co.uk/1s/2019/11/23/09/213...</td>\n",
       "    </tr>\n",
       "    <tr>\n",
       "      <th>7</th>\n",
       "      <td>VYnyoa2zrWzGux23dbXbQG</td>\n",
       "      <td>None</td>\n",
       "      <td>bYeBmshWKZ34VaYtqVEgmA</td>\n",
       "      <td>Cat vs Dog</td>\n",
       "      <td>url</td>\n",
       "      <td>finished</td>\n",
       "      <td>cat</td>\n",
       "      <td>https://images.pexels.com/photos/104827/cat-pe...</td>\n",
       "    </tr>\n",
       "  </tbody>\n",
       "</table>\n",
       "</div>"
      ],
      "text/plain": [
       "                       id custom_id            taskframe_id taskframe_name  \\\n",
       "0  bdvvuP4bNCLtZy6rGBAb3b      None  bYeBmshWKZ34VaYtqVEgmA     Cat vs Dog   \n",
       "1  7ddeyvazXWQ2tAR3WuE3YN      None  bYeBmshWKZ34VaYtqVEgmA     Cat vs Dog   \n",
       "2  rcfVLPXhYStKdq4dgEEwge      None  bYeBmshWKZ34VaYtqVEgmA     Cat vs Dog   \n",
       "3  mKPaRVg5CAS6vRNTyiJ2U3  custid_3  bYeBmshWKZ34VaYtqVEgmA     Cat vs Dog   \n",
       "4  ppQTBh8UXu7gEDGjzDs3PA  custid_2  bYeBmshWKZ34VaYtqVEgmA     Cat vs Dog   \n",
       "5  bMaqgNkD5j5i8cHKKqa9yE  custid_1  bYeBmshWKZ34VaYtqVEgmA     Cat vs Dog   \n",
       "6  MPR7eTxKM5hfEuVa87FMpQ      None  bYeBmshWKZ34VaYtqVEgmA     Cat vs Dog   \n",
       "7  VYnyoa2zrWzGux23dbXbQG      None  bYeBmshWKZ34VaYtqVEgmA     Cat vs Dog   \n",
       "\n",
       "  input_type        status answer  \\\n",
       "0       file  pending_work   None   \n",
       "1        url      disposed   None   \n",
       "2        url  pending_work   None   \n",
       "3        url      finished    cat   \n",
       "4        url      finished    cat   \n",
       "5        url  pending_work   None   \n",
       "6        url      finished    dog   \n",
       "7        url      finished    cat   \n",
       "\n",
       "                                           input_url  \n",
       "0                                                NaN  \n",
       "1  https://i.dailymail.co.uk/1s/2019/11/23/09/213...  \n",
       "2  https://i.dailymail.co.uk/1s/2019/11/23/09/213...  \n",
       "3  https://api.time.com/wp-content/uploads/2019/1...  \n",
       "4  https://images.pexels.com/photos/104827/cat-pe...  \n",
       "5  https://i.dailymail.co.uk/1s/2019/11/23/09/213...  \n",
       "6  https://i.dailymail.co.uk/1s/2019/11/23/09/213...  \n",
       "7  https://images.pexels.com/photos/104827/cat-pe...  "
      ]
     },
     "execution_count": 21,
     "metadata": {},
     "output_type": "execute_result"
    }
   ],
   "source": [
    "df"
   ]
  },
  {
   "cell_type": "code",
   "execution_count": 33,
   "metadata": {},
   "outputs": [
    {
     "ename": "AttributeError",
     "evalue": "'Taskframe' object has no attribute 'progress'",
     "output_type": "error",
     "traceback": [
      "\u001b[0;31m---------------------------------------------------------------------------\u001b[0m",
      "\u001b[0;31mAttributeError\u001b[0m                            Traceback (most recent call last)",
      "\u001b[0;32m<ipython-input-33-a1a443646c68>\u001b[0m in \u001b[0;36m<module>\u001b[0;34m\u001b[0m\n\u001b[0;32m----> 1\u001b[0;31m \u001b[0mtf\u001b[0m\u001b[0;34m.\u001b[0m\u001b[0mprogress\u001b[0m\u001b[0;34m(\u001b[0m\u001b[0;34m)\u001b[0m\u001b[0;34m\u001b[0m\u001b[0;34m\u001b[0m\u001b[0m\n\u001b[0m",
      "\u001b[0;31mAttributeError\u001b[0m: 'Taskframe' object has no attribute 'progress'"
     ]
    }
   ],
   "source": [
    "tf.progress()"
   ]
  },
  {
   "cell_type": "markdown",
   "metadata": {},
   "source": [
    "If your input dataset was already in a dataframe and you just want to insert the labels as a new column, you can do the following:"
   ]
  },
  {
   "cell_type": "code",
   "execution_count": 25,
   "metadata": {},
   "outputs": [
    {
     "name": "stderr",
     "output_type": "stream",
     "text": [
      "/usr/local/lib/python3.7/site-packages/urllib3/connectionpool.py:986: InsecureRequestWarning: Unverified HTTPS request is being made to host 'docker.for.mac.host.internal'. Adding certificate verification is strongly advised. See: https://urllib3.readthedocs.io/en/latest/advanced-usage.html#ssl-warnings\n",
      "  InsecureRequestWarning,\n"
     ]
    },
    {
     "data": {
      "text/html": [
       "<div>\n",
       "<style scoped>\n",
       "    .dataframe tbody tr th:only-of-type {\n",
       "        vertical-align: middle;\n",
       "    }\n",
       "\n",
       "    .dataframe tbody tr th {\n",
       "        vertical-align: top;\n",
       "    }\n",
       "\n",
       "    .dataframe thead th {\n",
       "        text-align: right;\n",
       "    }\n",
       "</style>\n",
       "<table border=\"1\" class=\"dataframe\">\n",
       "  <thead>\n",
       "    <tr style=\"text-align: right;\">\n",
       "      <th></th>\n",
       "      <th>idx</th>\n",
       "      <th>path</th>\n",
       "      <th>identifier</th>\n",
       "      <th>label</th>\n",
       "    </tr>\n",
       "  </thead>\n",
       "  <tbody>\n",
       "    <tr>\n",
       "      <th>0</th>\n",
       "      <td>0</td>\n",
       "      <td>imgs/foo.jpg</td>\n",
       "      <td>foo</td>\n",
       "      <td>dog</td>\n",
       "    </tr>\n",
       "    <tr>\n",
       "      <th>1</th>\n",
       "      <td>1</td>\n",
       "      <td>imgs/bar.jpg</td>\n",
       "      <td>bar</td>\n",
       "      <td>cat</td>\n",
       "    </tr>\n",
       "  </tbody>\n",
       "</table>\n",
       "</div>"
      ],
      "text/plain": [
       "   idx          path identifier label\n",
       "0    0  imgs/foo.jpg        foo   dog\n",
       "1    1  imgs/bar.jpg        bar   cat"
      ]
     },
     "execution_count": 25,
     "metadata": {},
     "output_type": "execute_result"
    }
   ],
   "source": [
    "tf.merge_to_dataframe(dataframe, custom_id_column=\"identifier\")\n",
    "\n",
    "dataframe.head()"
   ]
  },
  {
   "cell_type": "markdown",
   "metadata": {},
   "source": [
    "## TODO\n",
    "* training data\n",
    "* inviting users\n",
    "* check progress, review responses.\n",
    "* fetching and saving back results to csv/dataframe.\n",
    "* Putting it all together in a Block.\n",
    "* Fastai Loader\n",
    "* Pytorch Loader"
   ]
  },
  {
   "cell_type": "markdown",
   "metadata": {},
   "source": [
    "## todo dev\n",
    "- [ ] clean preview\n",
    "- [ ] add client class with error handling"
   ]
  },
  {
   "cell_type": "code",
   "execution_count": 38,
   "metadata": {},
   "outputs": [
    {
     "name": "stderr",
     "output_type": "stream",
     "text": [
      "/usr/local/lib/python3.7/site-packages/urllib3/connectionpool.py:986: InsecureRequestWarning: Unverified HTTPS request is being made to host 'docker.for.mac.host.internal'. Adding certificate verification is strongly advised. See: https://urllib3.readthedocs.io/en/latest/advanced-usage.html#ssl-warnings\n",
      "  InsecureRequestWarning,\n"
     ]
    },
    {
     "data": {
      "text/plain": [
       "{'num_tasks': 8,\n",
       " 'num_pending_work': 3,\n",
       " 'num_pending_review': 0,\n",
       " 'num_finished': 0}"
      ]
     },
     "execution_count": 38,
     "metadata": {},
     "output_type": "execute_result"
    }
   ],
   "source": []
  },
  {
   "cell_type": "code",
   "execution_count": 48,
   "metadata": {},
   "outputs": [
    {
     "data": {
      "text/html": [
       "\n",
       "            <iframe id=\"frame_6528\" src=\"https://localhost:3000/embed/preview\" frameBorder=0 style=\"width: 100%; height: 600px;\"></iframe>\n",
       "            <script>\n",
       "            (function(){\n",
       "                console.log('$$$$', {});\n",
       "                var $iframe = document.querySelector('#frame_6528');\n",
       "                var init = false;\n",
       "                postMessageHandler = function(e) {\n",
       "                    if (e.source !==  $iframe.contentWindow || e.data !== 'ready' || init) return;\n",
       "                    $iframe.contentWindow.postMessage('{\"type\": \"set_taskframe\", \"data\": {\"name\": null, \"data_type\": \"image\", \"task_type\": \"rich_text\", \"params\": {}, \"output_schema\": null, \"output_schema_url\": \"\", \"ui_schema\": {}, \"ui_schema_url\": \"\", \"instruction\": \"\", \"instruction_details\": null, \"mode\": \"inhouse\"}}', '*');\n",
       "                    $iframe.contentWindow.postMessage('{}', '*');\n",
       "\n",
       "                    init = true;\n",
       "                }\n",
       "                window.removeEventListener('message', postMessageHandler);\n",
       "                window.addEventListener('message', postMessageHandler);\n",
       "            })()\n",
       "            </script>\n",
       "            "
      ],
      "text/plain": [
       "<IPython.core.display.HTML object>"
      ]
     },
     "metadata": {},
     "output_type": "display_data"
    }
   ],
   "source": [
    "tf = taskframe.Taskframe(\n",
    "    data_type=\"image\",\n",
    "    task_type=\"rich_text\"\n",
    ")\n",
    "tf.preview()"
   ]
  },
  {
   "cell_type": "code",
   "execution_count": null,
   "metadata": {},
   "outputs": [],
   "source": []
  }
 ],
 "metadata": {
  "kernelspec": {
   "display_name": "Python 3",
   "language": "python",
   "name": "python3"
  },
  "language_info": {
   "codemirror_mode": {
    "name": "ipython",
    "version": 3
   },
   "file_extension": ".py",
   "mimetype": "text/x-python",
   "name": "python",
   "nbconvert_exporter": "python",
   "pygments_lexer": "ipython3",
   "version": "3.7.3"
  }
 },
 "nbformat": 4,
 "nbformat_minor": 4
}
